{
 "cells": [
  {
   "cell_type": "code",
   "execution_count": null,
   "metadata": {
    "collapsed": true
   },
   "outputs": [],
   "source": [
    "import pickle\n",
    "import re\n",
    "import os\n",
    "import numpy as np\n",
    "    \n",
    "# load classifier\n",
    "all_clf2 = pickle.load(open('all_classifier.pkl', 'rb'))\n",
    "print('classifier loaded')\n",
    "\n",
    "label = {0:'chromosomal', 1:'plasmid'}\n",
    "\n",
    "print('Prediction: %s\\nProbability: %.2f%%' %\\\n",
    "      (label[mv_clf2.predict(X_test)[0]], mv_clf2.predict_proba(X_test)[0].max()*100))\n",
    "\n",
    "rf_mod.predict_proba(X_test)[0].max()"
   ]
  }
 ],
 "metadata": {
  "kernelspec": {
   "display_name": "Python 2",
   "language": "python",
   "name": "python2"
  },
  "language_info": {
   "codemirror_mode": {
    "name": "ipython",
    "version": 2
   },
   "file_extension": ".py",
   "mimetype": "text/x-python",
   "name": "python",
   "nbconvert_exporter": "python",
   "pygments_lexer": "ipython2",
   "version": "2.7.12"
  }
 },
 "nbformat": 4,
 "nbformat_minor": 1
}
